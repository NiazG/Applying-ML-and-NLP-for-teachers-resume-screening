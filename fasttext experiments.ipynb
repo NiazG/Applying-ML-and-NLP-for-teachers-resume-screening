{
 "cells": [
  {
   "cell_type": "code",
   "execution_count": 2,
   "metadata": {},
   "outputs": [
    {
     "name": "stderr",
     "output_type": "stream",
     "text": [
      "[nltk_data] Downloading package stopwords to /Users/niyaz/nltk_data...\n",
      "[nltk_data]   Package stopwords is already up-to-date!\n"
     ]
    }
   ],
   "source": [
    "import numpy as np\n",
    "import pandas as pd\n",
    "import matplotlib.pyplot as plt\n",
    "import warnings\n",
    "warnings.filterwarnings('ignore')\n",
    "from sklearn.naive_bayes import MultinomialNB\n",
    "from sklearn.multiclass import OneVsRestClassifier\n",
    "from sklearn import metrics\n",
    "from sklearn.metrics import accuracy_score\n",
    "from pandas.plotting import scatter_matrix\n",
    "from sklearn.neighbors import KNeighborsClassifier\n",
    "from sklearn import metrics\n",
    "import nltk\n",
    "nltk.download('stopwords')\n",
    "from nltk.corpus import stopwords\n",
    "import re"
   ]
  },
  {
   "cell_type": "code",
   "execution_count": 3,
   "metadata": {},
   "outputs": [],
   "source": [
    "label_dict = {'primary_teacher' : 6,\n",
    "              'kg_teacher' : 3,\n",
    "              'esl_teacher' : 1,\n",
    "              'ict_teacher' : 2,\n",
    "              'science_teacher' : 7,\n",
    "              'music_teacher' : 5,\n",
    "              'math_teacher' : 4,\n",
    "              'art_teacher' : 0\n",
    "              }"
   ]
  },
  {
   "cell_type": "code",
   "execution_count": 4,
   "metadata": {},
   "outputs": [],
   "source": [
    "DataSet = pd.read_csv('teachers_dataset.csv',encoding='utf-8')"
   ]
  },
  {
   "cell_type": "code",
   "execution_count": 5,
   "metadata": {},
   "outputs": [
    {
     "data": {
      "text/html": [
       "<div>\n",
       "<style scoped>\n",
       "    .dataframe tbody tr th:only-of-type {\n",
       "        vertical-align: middle;\n",
       "    }\n",
       "\n",
       "    .dataframe tbody tr th {\n",
       "        vertical-align: top;\n",
       "    }\n",
       "\n",
       "    .dataframe thead th {\n",
       "        text-align: right;\n",
       "    }\n",
       "</style>\n",
       "<table border=\"1\" class=\"dataframe\">\n",
       "  <thead>\n",
       "    <tr style=\"text-align: right;\">\n",
       "      <th></th>\n",
       "      <th>position</th>\n",
       "      <th>cv</th>\n",
       "    </tr>\n",
       "  </thead>\n",
       "  <tbody>\n",
       "    <tr>\n",
       "      <th>0</th>\n",
       "      <td>science_teacher</td>\n",
       "      <td>\\naustin tx\\nemail me on indeed httpwwwindeedc...</td>\n",
       "    </tr>\n",
       "    <tr>\n",
       "      <th>1</th>\n",
       "      <td>science_teacher</td>\n",
       "      <td>\\nwaupun wi\\nemail me on indeed httpwwwindeedc...</td>\n",
       "    </tr>\n",
       "    <tr>\n",
       "      <th>2</th>\n",
       "      <td>science_teacher</td>\n",
       "      <td>\\nrichardson tx\\nemail me on indeed httpwwwind...</td>\n",
       "    </tr>\n",
       "    <tr>\n",
       "      <th>3</th>\n",
       "      <td>science_teacher</td>\n",
       "      <td>\\nnew port richey fl\\nemail me on indeed httpw...</td>\n",
       "    </tr>\n",
       "    <tr>\n",
       "      <th>4</th>\n",
       "      <td>science_teacher</td>\n",
       "      <td>\\nbuhl al\\nemail me on indeed httpwwwindeedcom...</td>\n",
       "    </tr>\n",
       "  </tbody>\n",
       "</table>\n",
       "</div>"
      ],
      "text/plain": [
       "          position                                                 cv\n",
       "0  science_teacher  \\naustin tx\\nemail me on indeed httpwwwindeedc...\n",
       "1  science_teacher  \\nwaupun wi\\nemail me on indeed httpwwwindeedc...\n",
       "2  science_teacher  \\nrichardson tx\\nemail me on indeed httpwwwind...\n",
       "3  science_teacher  \\nnew port richey fl\\nemail me on indeed httpw...\n",
       "4  science_teacher  \\nbuhl al\\nemail me on indeed httpwwwindeedcom..."
      ]
     },
     "execution_count": 5,
     "metadata": {},
     "output_type": "execute_result"
    }
   ],
   "source": [
    "DataSet.head()"
   ]
  },
  {
   "cell_type": "code",
   "execution_count": 6,
   "metadata": {},
   "outputs": [],
   "source": [
    "resumeDataSet = pd.read_csv('dataset.csv',encoding='utf-8')"
   ]
  },
  {
   "cell_type": "code",
   "execution_count": 7,
   "metadata": {},
   "outputs": [],
   "source": [
    "resumeDataSet['position'] = DataSet['position']"
   ]
  },
  {
   "cell_type": "code",
   "execution_count": 8,
   "metadata": {},
   "outputs": [
    {
     "data": {
      "text/html": [
       "<div>\n",
       "<style scoped>\n",
       "    .dataframe tbody tr th:only-of-type {\n",
       "        vertical-align: middle;\n",
       "    }\n",
       "\n",
       "    .dataframe tbody tr th {\n",
       "        vertical-align: top;\n",
       "    }\n",
       "\n",
       "    .dataframe thead th {\n",
       "        text-align: right;\n",
       "    }\n",
       "</style>\n",
       "<table border=\"1\" class=\"dataframe\">\n",
       "  <thead>\n",
       "    <tr style=\"text-align: right;\">\n",
       "      <th></th>\n",
       "      <th>position</th>\n",
       "      <th>cv</th>\n",
       "      <th>cleaned_resume</th>\n",
       "    </tr>\n",
       "  </thead>\n",
       "  <tbody>\n",
       "    <tr>\n",
       "      <th>0</th>\n",
       "      <td>science_teacher</td>\n",
       "      <td>\\naustin tx\\nemail me on indeed httpwwwindeedc...</td>\n",
       "      <td>doctor chiropractic intern licensed december ...</td>\n",
       "    </tr>\n",
       "    <tr>\n",
       "      <th>1</th>\n",
       "      <td>science_teacher</td>\n",
       "      <td>\\nwaupun wi\\nemail me on indeed httpwwwindeedc...</td>\n",
       "      <td>waupun willing relocate anywhere work experie...</td>\n",
       "    </tr>\n",
       "    <tr>\n",
       "      <th>2</th>\n",
       "      <td>science_teacher</td>\n",
       "      <td>\\nrichardson tx\\nemail me on indeed httpwwwind...</td>\n",
       "      <td>richardson teaching math middle school math a...</td>\n",
       "    </tr>\n",
       "    <tr>\n",
       "      <th>3</th>\n",
       "      <td>science_teacher</td>\n",
       "      <td>\\nnew port richey fl\\nemail me on indeed httpw...</td>\n",
       "      <td>new port richey willing relocate anywhere wor...</td>\n",
       "    </tr>\n",
       "    <tr>\n",
       "      <th>4</th>\n",
       "      <td>science_teacher</td>\n",
       "      <td>\\nbuhl al\\nemail me on indeed httpwwwindeedcom...</td>\n",
       "      <td>buhl authorized work us employer work experie...</td>\n",
       "    </tr>\n",
       "    <tr>\n",
       "      <th>...</th>\n",
       "      <td>...</td>\n",
       "      <td>...</td>\n",
       "      <td>...</td>\n",
       "    </tr>\n",
       "    <tr>\n",
       "      <th>4114</th>\n",
       "      <td>primary_teacher</td>\n",
       "      <td>\\nclaremont nh\\nemail me on indeed httpwwwinde...</td>\n",
       "      <td>claremont work experience lead primary teache...</td>\n",
       "    </tr>\n",
       "    <tr>\n",
       "      <th>4115</th>\n",
       "      <td>primary_teacher</td>\n",
       "      <td>\\ndavis ca\\nemail me on indeed httpwwwindeedco...</td>\n",
       "      <td>davis resilient educator turned salesforce ce...</td>\n",
       "    </tr>\n",
       "    <tr>\n",
       "      <th>4116</th>\n",
       "      <td>primary_teacher</td>\n",
       "      <td>\\natlanta ga\\nemail me on indeed httpwwwindeed...</td>\n",
       "      <td>atlanta teacher certification elementary educ...</td>\n",
       "    </tr>\n",
       "    <tr>\n",
       "      <th>4117</th>\n",
       "      <td>primary_teacher</td>\n",
       "      <td>\\ndarlington pa\\nemail me on indeed httpwwwind...</td>\n",
       "      <td>darlington authorized work us employer work e...</td>\n",
       "    </tr>\n",
       "    <tr>\n",
       "      <th>4118</th>\n",
       "      <td>primary_teacher</td>\n",
       "      <td>\\nemail me on indeed httpwwwindeedcomrrabbiakh...</td>\n",
       "      <td>work best potential utilize skills competitiv...</td>\n",
       "    </tr>\n",
       "  </tbody>\n",
       "</table>\n",
       "<p>4119 rows × 3 columns</p>\n",
       "</div>"
      ],
      "text/plain": [
       "             position                                                 cv  \\\n",
       "0     science_teacher  \\naustin tx\\nemail me on indeed httpwwwindeedc...   \n",
       "1     science_teacher  \\nwaupun wi\\nemail me on indeed httpwwwindeedc...   \n",
       "2     science_teacher  \\nrichardson tx\\nemail me on indeed httpwwwind...   \n",
       "3     science_teacher  \\nnew port richey fl\\nemail me on indeed httpw...   \n",
       "4     science_teacher  \\nbuhl al\\nemail me on indeed httpwwwindeedcom...   \n",
       "...               ...                                                ...   \n",
       "4114  primary_teacher  \\nclaremont nh\\nemail me on indeed httpwwwinde...   \n",
       "4115  primary_teacher  \\ndavis ca\\nemail me on indeed httpwwwindeedco...   \n",
       "4116  primary_teacher  \\natlanta ga\\nemail me on indeed httpwwwindeed...   \n",
       "4117  primary_teacher  \\ndarlington pa\\nemail me on indeed httpwwwind...   \n",
       "4118  primary_teacher  \\nemail me on indeed httpwwwindeedcomrrabbiakh...   \n",
       "\n",
       "                                         cleaned_resume  \n",
       "0      doctor chiropractic intern licensed december ...  \n",
       "1      waupun willing relocate anywhere work experie...  \n",
       "2      richardson teaching math middle school math a...  \n",
       "3      new port richey willing relocate anywhere wor...  \n",
       "4      buhl authorized work us employer work experie...  \n",
       "...                                                 ...  \n",
       "4114   claremont work experience lead primary teache...  \n",
       "4115   davis resilient educator turned salesforce ce...  \n",
       "4116   atlanta teacher certification elementary educ...  \n",
       "4117   darlington authorized work us employer work e...  \n",
       "4118   work best potential utilize skills competitiv...  \n",
       "\n",
       "[4119 rows x 3 columns]"
      ]
     },
     "execution_count": 8,
     "metadata": {},
     "output_type": "execute_result"
    }
   ],
   "source": [
    "resumeDataSet"
   ]
  },
  {
   "cell_type": "code",
   "execution_count": 9,
   "metadata": {},
   "outputs": [],
   "source": [
    "from sklearn.model_selection import train_test_split\n",
    "from sklearn.model_selection import cross_validate\n",
    "train, test = train_test_split(resumeDataSet, test_size=0.2,random_state=42, stratify=resumeDataSet['position'])"
   ]
  },
  {
   "cell_type": "code",
   "execution_count": 10,
   "metadata": {},
   "outputs": [
    {
     "name": "stdout",
     "output_type": "stream",
     "text": [
      "\u001b[33mWARNING: Ignoring invalid distribution -umpy (/Users/niyaz/opt/anaconda3/lib/python3.8/site-packages)\u001b[0m\u001b[33m\n",
      "\u001b[0m\u001b[33mWARNING: Ignoring invalid distribution -umpy (/Users/niyaz/opt/anaconda3/lib/python3.8/site-packages)\u001b[0m\u001b[33m\n",
      "\u001b[0mRequirement already satisfied: gensim in /Users/niyaz/opt/anaconda3/lib/python3.8/site-packages (4.3.0)\n",
      "Requirement already satisfied: numpy>=1.18.5 in /Users/niyaz/opt/anaconda3/lib/python3.8/site-packages (from gensim) (1.23.4)\n",
      "Requirement already satisfied: scipy>=1.7.0 in /Users/niyaz/opt/anaconda3/lib/python3.8/site-packages (from gensim) (1.10.0)\n",
      "Requirement already satisfied: FuzzyTM>=0.4.0 in /Users/niyaz/opt/anaconda3/lib/python3.8/site-packages (from gensim) (2.0.5)\n",
      "Requirement already satisfied: smart-open>=1.8.1 in /Users/niyaz/opt/anaconda3/lib/python3.8/site-packages (from gensim) (6.3.0)\n",
      "Requirement already satisfied: pandas in /Users/niyaz/opt/anaconda3/lib/python3.8/site-packages (from FuzzyTM>=0.4.0->gensim) (1.1.3)\n",
      "Requirement already satisfied: pyfume in /Users/niyaz/opt/anaconda3/lib/python3.8/site-packages (from FuzzyTM>=0.4.0->gensim) (0.2.25)\n",
      "Requirement already satisfied: python-dateutil>=2.7.3 in /Users/niyaz/opt/anaconda3/lib/python3.8/site-packages (from pandas->FuzzyTM>=0.4.0->gensim) (2.8.1)\n",
      "Requirement already satisfied: pytz>=2017.2 in /Users/niyaz/opt/anaconda3/lib/python3.8/site-packages (from pandas->FuzzyTM>=0.4.0->gensim) (2020.1)\n",
      "Requirement already satisfied: simpful in /Users/niyaz/opt/anaconda3/lib/python3.8/site-packages (from pyfume->FuzzyTM>=0.4.0->gensim) (2.9.0)\n",
      "Requirement already satisfied: fst-pso in /Users/niyaz/opt/anaconda3/lib/python3.8/site-packages (from pyfume->FuzzyTM>=0.4.0->gensim) (1.8.1)\n",
      "Requirement already satisfied: six>=1.5 in /Users/niyaz/opt/anaconda3/lib/python3.8/site-packages (from python-dateutil>=2.7.3->pandas->FuzzyTM>=0.4.0->gensim) (1.12.0)\n",
      "Requirement already satisfied: miniful in /Users/niyaz/opt/anaconda3/lib/python3.8/site-packages (from fst-pso->pyfume->FuzzyTM>=0.4.0->gensim) (0.0.6)\n",
      "Requirement already satisfied: requests in /Users/niyaz/opt/anaconda3/lib/python3.8/site-packages (from simpful->pyfume->FuzzyTM>=0.4.0->gensim) (2.28.1)\n",
      "Requirement already satisfied: urllib3<1.27,>=1.21.1 in /Users/niyaz/opt/anaconda3/lib/python3.8/site-packages (from requests->simpful->pyfume->FuzzyTM>=0.4.0->gensim) (1.26.12)\n",
      "Requirement already satisfied: idna<4,>=2.5 in /Users/niyaz/opt/anaconda3/lib/python3.8/site-packages (from requests->simpful->pyfume->FuzzyTM>=0.4.0->gensim) (2.10)\n",
      "Requirement already satisfied: charset-normalizer<3,>=2 in /Users/niyaz/opt/anaconda3/lib/python3.8/site-packages (from requests->simpful->pyfume->FuzzyTM>=0.4.0->gensim) (2.1.1)\n",
      "Requirement already satisfied: certifi>=2017.4.17 in /Users/niyaz/opt/anaconda3/lib/python3.8/site-packages (from requests->simpful->pyfume->FuzzyTM>=0.4.0->gensim) (2020.6.20)\n",
      "\u001b[33mWARNING: Ignoring invalid distribution -umpy (/Users/niyaz/opt/anaconda3/lib/python3.8/site-packages)\u001b[0m\u001b[33m\n",
      "\u001b[0m\u001b[33mWARNING: Ignoring invalid distribution -umpy (/Users/niyaz/opt/anaconda3/lib/python3.8/site-packages)\u001b[0m\u001b[33m\n",
      "\u001b[0m\u001b[33mWARNING: Ignoring invalid distribution -umpy (/Users/niyaz/opt/anaconda3/lib/python3.8/site-packages)\u001b[0m\u001b[33m\n",
      "\u001b[0m\u001b[33mWARNING: Ignoring invalid distribution -umpy (/Users/niyaz/opt/anaconda3/lib/python3.8/site-packages)\u001b[0m\u001b[33m\n",
      "\u001b[0m"
     ]
    }
   ],
   "source": [
    "!pip install gensim"
   ]
  },
  {
   "cell_type": "code",
   "execution_count": 11,
   "metadata": {},
   "outputs": [],
   "source": [
    "import gensim"
   ]
  },
  {
   "cell_type": "code",
   "execution_count": 12,
   "metadata": {},
   "outputs": [],
   "source": [
    "# Text Classification with fastText\n",
    "# Importing libraries\n",
    "import numpy as np, pandas as pd\n",
    "\n",
    "# NLP Preprocessing\n",
    "from gensim.utils import simple_preprocess\n",
    "\n",
    "# Importing the dataset\n",
    "dataset = train[['cleaned_resume', 'position']].rename(columns = {'cleaned_resume': 'resumes', 'position': 'position'})\n",
    "ds = test[['cleaned_resume', 'position']].rename(columns = {'cleaned_resume': 'resumes', 'position': 'position'})\n",
    "\n",
    "# NLP Preprocess\n",
    "dataset.iloc[:, 0] = dataset.iloc[:, 0].apply(lambda x: ' '.join(simple_preprocess(x)))\n",
    "ds.iloc[:, 0] = ds.iloc[:, 0].apply(lambda x: ' '.join(simple_preprocess(x)))\n",
    "\n"
   ]
  },
  {
   "cell_type": "code",
   "execution_count": 13,
   "metadata": {},
   "outputs": [],
   "source": [
    "dataset.iloc[:, 1] = dataset.iloc[:, 1].apply(lambda x: '__label__' + x)\n",
    "ds.iloc[:, 1] = ds.iloc[:, 1].apply(lambda x: '__label__' + x)"
   ]
  },
  {
   "cell_type": "code",
   "execution_count": 14,
   "metadata": {},
   "outputs": [
    {
     "name": "stdout",
     "output_type": "stream",
     "text": [
      "\u001b[33mWARNING: Ignoring invalid distribution -umpy (/Users/niyaz/opt/anaconda3/lib/python3.8/site-packages)\u001b[0m\u001b[33m\n",
      "\u001b[0m\u001b[33mWARNING: Ignoring invalid distribution -umpy (/Users/niyaz/opt/anaconda3/lib/python3.8/site-packages)\u001b[0m\u001b[33m\n",
      "\u001b[0mRequirement already satisfied: fasttext in /Users/niyaz/opt/anaconda3/lib/python3.8/site-packages (0.9.2)\n",
      "Requirement already satisfied: setuptools>=0.7.0 in /Users/niyaz/opt/anaconda3/lib/python3.8/site-packages (from fasttext) (60.5.0)\n",
      "Requirement already satisfied: pybind11>=2.2 in /Users/niyaz/opt/anaconda3/lib/python3.8/site-packages (from fasttext) (2.10.3)\n",
      "Requirement already satisfied: numpy in /Users/niyaz/opt/anaconda3/lib/python3.8/site-packages (from fasttext) (1.23.4)\n",
      "\u001b[33mWARNING: Ignoring invalid distribution -umpy (/Users/niyaz/opt/anaconda3/lib/python3.8/site-packages)\u001b[0m\u001b[33m\n",
      "\u001b[0m\u001b[33mWARNING: Ignoring invalid distribution -umpy (/Users/niyaz/opt/anaconda3/lib/python3.8/site-packages)\u001b[0m\u001b[33m\n",
      "\u001b[0m\u001b[33mWARNING: Ignoring invalid distribution -umpy (/Users/niyaz/opt/anaconda3/lib/python3.8/site-packages)\u001b[0m\u001b[33m\n",
      "\u001b[0m\u001b[33mWARNING: Ignoring invalid distribution -umpy (/Users/niyaz/opt/anaconda3/lib/python3.8/site-packages)\u001b[0m\u001b[33m\n",
      "\u001b[0m"
     ]
    }
   ],
   "source": [
    "!pip install fasttext"
   ]
  },
  {
   "cell_type": "code",
   "execution_count": 15,
   "metadata": {},
   "outputs": [],
   "source": [
    "import csv\n",
    "import fasttext"
   ]
  },
  {
   "cell_type": "code",
   "execution_count": 16,
   "metadata": {},
   "outputs": [],
   "source": [
    "# Saving the CSV file as a text file to train/test the classifier\n",
    "dataset[['resumes', 'position']].to_csv('train.txt', \n",
    "                                          index = False, \n",
    "                                          sep = ' ',\n",
    "                                          header = None, \n",
    "                                          quoting = csv.QUOTE_NONE, \n",
    "                                          quotechar = \"\", \n",
    "                                          escapechar = \" \")\n",
    "\n",
    "ds[['resumes', 'position']].to_csv('test.txt', \n",
    "                                     index = False, \n",
    "                                     sep = ' ',\n",
    "                                     header = None, \n",
    "                                     quoting = csv.QUOTE_NONE, \n",
    "                                     quotechar = \"\", \n",
    "                                     escapechar = \" \")\n",
    "\n"
   ]
  },
  {
   "cell_type": "code",
   "execution_count": 17,
   "metadata": {},
   "outputs": [],
   "source": [
    "# Training the fastText classifier\n",
    "model = fasttext.train_supervised('train.txt', lr=0.8, epoch=20, wordNgrams=2,bucket=200000, dim=100, loss='ova')\n"
   ]
  },
  {
   "cell_type": "code",
   "execution_count": 18,
   "metadata": {},
   "outputs": [
    {
     "name": "stdout",
     "output_type": "stream",
     "text": [
      "precition: 0.8616504854368932,  recall: 0.8616504854368932\n"
     ]
    }
   ],
   "source": [
    "result = model.test('test.txt')\n",
    "print(f'precition: {result[1]},', f' recall: {result[2]}')"
   ]
  },
  {
   "cell_type": "code",
   "execution_count": 48,
   "metadata": {},
   "outputs": [
    {
     "data": {
      "text/plain": [
       "(824, 0.8495145631067961, 0.8495145631067961)"
      ]
     },
     "execution_count": 48,
     "metadata": {},
     "output_type": "execute_result"
    }
   ],
   "source": [
    "\n",
    "# Evaluating performance on the entire test file\n",
    "                      \n",
    "\n",
    "# Predicting on a single input\n",
    "#model.predict(ds.iloc[2, 0])\n",
    "\n",
    "# Save the trained model\n",
    "#model.save_model('model.bin')"
   ]
  },
  {
   "cell_type": "code",
   "execution_count": null,
   "metadata": {},
   "outputs": [],
   "source": []
  }
 ],
 "metadata": {
  "kernelspec": {
   "display_name": "Python 3",
   "language": "python",
   "name": "python3"
  },
  "language_info": {
   "codemirror_mode": {
    "name": "ipython",
    "version": 3
   },
   "file_extension": ".py",
   "mimetype": "text/x-python",
   "name": "python",
   "nbconvert_exporter": "python",
   "pygments_lexer": "ipython3",
   "version": "3.8.5"
  }
 },
 "nbformat": 4,
 "nbformat_minor": 4
}
