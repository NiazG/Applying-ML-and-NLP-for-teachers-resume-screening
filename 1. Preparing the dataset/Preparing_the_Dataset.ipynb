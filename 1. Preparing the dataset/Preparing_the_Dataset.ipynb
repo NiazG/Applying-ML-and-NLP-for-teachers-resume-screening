{
  "cells": [
    {
      "cell_type": "code",
      "source": [
        "from google.colab import drive\n",
        "drive.mount('/content/drive')"
      ],
      "metadata": {
        "colab": {
          "base_uri": "https://localhost:8080/"
        },
        "id": "-fBhRnzqBMup",
        "outputId": "beba0b12-0ed8-4874-8ccc-bd18ab53cb3a"
      },
      "execution_count": null,
      "outputs": [
        {
          "output_type": "stream",
          "name": "stdout",
          "text": [
            "Mounted at /content/drive\n"
          ]
        }
      ]
    },
    {
      "cell_type": "markdown",
      "source": [
        "# Converting the pdf files to text"
      ],
      "metadata": {
        "id": "wxukPQP0xCfl"
      }
    },
    {
      "cell_type": "code",
      "source": [
        "!pip install PyPDF2\n",
        "!pip install jedi\n",
        "!pip install textract\n",
        "# Import required libraries\n",
        "import PyPDF2\n",
        "import textract\n",
        "import re\n",
        "import string\n",
        "import pandas as pd\n",
        "import os"
      ],
      "metadata": {
        "colab": {
          "base_uri": "https://localhost:8080/"
        },
        "id": "phCdWIWGBamE",
        "outputId": "68a8db58-604f-4733-97be-14125518b8f6"
      },
      "execution_count": null,
      "outputs": [
        {
          "output_type": "stream",
          "name": "stdout",
          "text": [
            "Looking in indexes: https://pypi.org/simple, https://us-python.pkg.dev/colab-wheels/public/simple/\n",
            "Requirement already satisfied: PyPDF2 in /usr/local/lib/python3.8/dist-packages (3.0.1)\n",
            "Requirement already satisfied: typing_extensions>=3.10.0.0 in /usr/local/lib/python3.8/dist-packages (from PyPDF2) (4.4.0)\n"
          ]
        }
      ]
    },
    {
      "cell_type": "code",
      "execution_count": null,
      "metadata": {
        "id": "fQb1_wJ0_sej"
      },
      "outputs": [],
      "source": []
    },
    {
      "cell_type": "code",
      "execution_count": null,
      "metadata": {
        "id": "yiyEctrK_sen"
      },
      "outputs": [],
      "source": [
        "def extract_from_pdf(file):\n",
        "# Open pdf file\n",
        "    pdfFileObj = open(file,'rb')\n",
        "\n",
        "\n",
        "    # Read file\n",
        "    pdfReader = PyPDF2.PdfReader(pdfFileObj)\n",
        "\n",
        "    # Get total number of pages\n",
        "    num_pages = len(pdfReader.pages)\n",
        "\n",
        "    # Initialize a count for the number of pages\n",
        "    count = 0\n",
        "\n",
        "    # Initialize a text empty etring variable\n",
        "    text = \"\"\n",
        "\n",
        "    # Extract text from every page on the file\n",
        "    while count < num_pages:\n",
        "        pageObj = pdfReader.pages[count]\n",
        "        count +=1\n",
        "        text += pageObj.extract_text()\n",
        "    # Convert all strings to lowercase\n",
        "    text = text.lower()\n",
        "\n",
        "    # Remove numbers\n",
        "    text = re.sub(r'\\d+','',text)\n",
        "\n",
        "    # Remove punctuation\n",
        "    text = text.translate(str.maketrans('','',string.punctuation))\n",
        "    \n",
        "    return(text)\n",
        "    "
      ]
    },
    {
      "cell_type": "code",
      "execution_count": null,
      "metadata": {
        "id": "EY5P4Mzh_sem"
      },
      "outputs": [],
      "source": [
        "dataset_dir = '/Users/niyaz/Desktop/NIYAZ/MSDS/Thesis /Thesis_dataset'"
      ]
    },
    {
      "cell_type": "code",
      "source": [
        "sample_cv = \"/content/drive/MyDrive/Thesis_Niiaz/sample 1.pdf\"\n",
        "extract_from_pdf(sample_cv)"
      ],
      "metadata": {
        "colab": {
          "base_uri": "https://localhost:8080/",
          "height": 161
        },
        "id": "ZAQOZ0aEBxCl",
        "outputId": "9a0ffd0a-2b4f-40d8-afc7-55ec30f7419d"
      },
      "execution_count": null,
      "outputs": [
        {
          "output_type": "execute_result",
          "data": {
            "text/plain": [
              "' education normal university bachelor of mathematics   professional summary attentive high school math’s teacher organized and driven with the innate ability to stay on task uses effective and efficient methods of teaching while focusing on the individual needs of each student my passion is the new technologies especially the data science that we can implement in education   experience  to present glory international school vientiane laos  to present math’s teacher • teaching lower secondary mathematics y y igcse mathematics  as level statistics  • taking part in organizing the math’s olympiad competition ismo    participants   to    math’s teacher at springboard school hanoi vietnam  • teaching lower secondary and high school mathematics • acting as student adviser for the math club and participate the competitions local round awards    to     math’s teacher at springboard school ho chi minh vietnam  •  to  secondary and high school math’s teacher o teaching mathematics to  grades  o acting as student adviser for the math clubs students’ national awards   o preparing students to the science fair projects o organized the trips to russia winter  summer   to    math’s teacher at springboard school manila philippines o teaching mathematics to  grades    certificates • extension cambridge igcse additional mathematics   syllabus • extension cambridge igcse mathematics   syllabus            '"
            ],
            "application/vnd.google.colaboratory.intrinsic+json": {
              "type": "string"
            }
          },
          "metadata": {},
          "execution_count": 28
        }
      ]
    },
    {
      "cell_type": "code",
      "execution_count": null,
      "metadata": {
        "scrolled": true,
        "id": "zgYEhtTr_seo"
      },
      "outputs": [],
      "source": [
        "for position in os.listdir(dataset_dir):\n",
        "    #avoiding the .DS_Store\n",
        "    if position != '.DS_Store':\n",
        "        #taking the folder from the datasets. Each folder is representing the teacher position\n",
        "        folder = os.listdir(dataset_dir+f'/{position}')\n",
        "        for teacher in folder:\n",
        "            #checking for the pdf files only\n",
        "            if '.pdf' in teacher:\n",
        "                #1.extracting the text from the cv\n",
        "                #rremoving the tachers fullname from the cv. Used to keep the confidentiality\n",
        "                cv = extract_from_pdf(dataset_dir+'/'+position+'/'+teacher).replace(\" \".join((teacher[:-4].split('-'))).lower(),'')\n",
        "                #adding the cv to the list of teachers cv\n",
        "                data_list.append({\n",
        "                    'position' : position,\n",
        "                    'cv' : cv\n",
        "                })\n",
        "\n",
        "# preparingt the dataset in DataFrame format\n",
        "teachers_dataset = pd.DataFrame(data_list, columns=['position', 'cv'])"
      ]
    },
    {
      "cell_type": "code",
      "execution_count": null,
      "metadata": {
        "id": "HqtUMWE8_sen"
      },
      "outputs": [],
      "source": [
        "data_list = []"
      ]
    },
    {
      "cell_type": "code",
      "execution_count": null,
      "metadata": {
        "id": "9IJKtW-a_sep",
        "outputId": "55e0b869-5ef2-4b80-9682-9c70a71e7aa0"
      },
      "outputs": [
        {
          "data": {
            "text/html": [
              "<div>\n",
              "<style scoped>\n",
              "    .dataframe tbody tr th:only-of-type {\n",
              "        vertical-align: middle;\n",
              "    }\n",
              "\n",
              "    .dataframe tbody tr th {\n",
              "        vertical-align: top;\n",
              "    }\n",
              "\n",
              "    .dataframe thead th {\n",
              "        text-align: right;\n",
              "    }\n",
              "</style>\n",
              "<table border=\"1\" class=\"dataframe\">\n",
              "  <thead>\n",
              "    <tr style=\"text-align: right;\">\n",
              "      <th></th>\n",
              "      <th>position</th>\n",
              "      <th>cv</th>\n",
              "    </tr>\n",
              "  </thead>\n",
              "  <tbody>\n",
              "    <tr>\n",
              "      <th>0</th>\n",
              "      <td>science_teacher</td>\n",
              "      <td>\\naustin tx\\nemail me on indeed httpwwwindeedc...</td>\n",
              "    </tr>\n",
              "    <tr>\n",
              "      <th>1</th>\n",
              "      <td>science_teacher</td>\n",
              "      <td>\\nwaupun wi\\nemail me on indeed httpwwwindeedc...</td>\n",
              "    </tr>\n",
              "    <tr>\n",
              "      <th>2</th>\n",
              "      <td>science_teacher</td>\n",
              "      <td>\\nrichardson tx\\nemail me on indeed httpwwwind...</td>\n",
              "    </tr>\n",
              "    <tr>\n",
              "      <th>3</th>\n",
              "      <td>science_teacher</td>\n",
              "      <td>\\nnew port richey fl\\nemail me on indeed httpw...</td>\n",
              "    </tr>\n",
              "    <tr>\n",
              "      <th>4</th>\n",
              "      <td>science_teacher</td>\n",
              "      <td>\\nbuhl al\\nemail me on indeed httpwwwindeedcom...</td>\n",
              "    </tr>\n",
              "    <tr>\n",
              "      <th>...</th>\n",
              "      <td>...</td>\n",
              "      <td>...</td>\n",
              "    </tr>\n",
              "    <tr>\n",
              "      <th>4114</th>\n",
              "      <td>primary_teacher</td>\n",
              "      <td>\\nclaremont nh\\nemail me on indeed httpwwwinde...</td>\n",
              "    </tr>\n",
              "    <tr>\n",
              "      <th>4115</th>\n",
              "      <td>primary_teacher</td>\n",
              "      <td>\\ndavis ca\\nemail me on indeed httpwwwindeedco...</td>\n",
              "    </tr>\n",
              "    <tr>\n",
              "      <th>4116</th>\n",
              "      <td>primary_teacher</td>\n",
              "      <td>\\natlanta ga\\nemail me on indeed httpwwwindeed...</td>\n",
              "    </tr>\n",
              "    <tr>\n",
              "      <th>4117</th>\n",
              "      <td>primary_teacher</td>\n",
              "      <td>\\ndarlington pa\\nemail me on indeed httpwwwind...</td>\n",
              "    </tr>\n",
              "    <tr>\n",
              "      <th>4118</th>\n",
              "      <td>primary_teacher</td>\n",
              "      <td>\\nemail me on indeed httpwwwindeedcomrrabbiakh...</td>\n",
              "    </tr>\n",
              "  </tbody>\n",
              "</table>\n",
              "<p>4119 rows × 2 columns</p>\n",
              "</div>"
            ],
            "text/plain": [
              "             position                                                 cv\n",
              "0     science_teacher  \\naustin tx\\nemail me on indeed httpwwwindeedc...\n",
              "1     science_teacher  \\nwaupun wi\\nemail me on indeed httpwwwindeedc...\n",
              "2     science_teacher  \\nrichardson tx\\nemail me on indeed httpwwwind...\n",
              "3     science_teacher  \\nnew port richey fl\\nemail me on indeed httpw...\n",
              "4     science_teacher  \\nbuhl al\\nemail me on indeed httpwwwindeedcom...\n",
              "...               ...                                                ...\n",
              "4114  primary_teacher  \\nclaremont nh\\nemail me on indeed httpwwwinde...\n",
              "4115  primary_teacher  \\ndavis ca\\nemail me on indeed httpwwwindeedco...\n",
              "4116  primary_teacher  \\natlanta ga\\nemail me on indeed httpwwwindeed...\n",
              "4117  primary_teacher  \\ndarlington pa\\nemail me on indeed httpwwwind...\n",
              "4118  primary_teacher  \\nemail me on indeed httpwwwindeedcomrrabbiakh...\n",
              "\n",
              "[4119 rows x 2 columns]"
            ]
          },
          "execution_count": 351,
          "metadata": {},
          "output_type": "execute_result"
        }
      ],
      "source": [
        "teachers_dataset\n"
      ]
    },
    {
      "cell_type": "code",
      "execution_count": null,
      "metadata": {
        "id": "U5X_iDdO_seq"
      },
      "outputs": [],
      "source": [
        "teachers_dataset.to_csv('teachers_dataset.csv', index=False)"
      ]
    },
    {
      "cell_type": "markdown",
      "source": [
        "# **Preprocessing the dataset**"
      ],
      "metadata": {
        "id": "bbJd9whSw73a"
      }
    },
    {
      "cell_type": "code",
      "execution_count": null,
      "metadata": {
        "id": "I6uSXvvedeni"
      },
      "outputs": [],
      "source": [
        "import numpy as np\n",
        "import pandas as pd\n",
        "import matplotlib.pyplot as plt\n",
        "import warnings\n",
        "warnings.filterwarnings('ignore')\n",
        "from sklearn.naive_bayes import MultinomialNB\n",
        "from sklearn.multiclass import OneVsRestClassifier\n",
        "from sklearn import metrics\n",
        "from sklearn.metrics import accuracy_score\n",
        "from pandas.plotting import scatter_matrix\n",
        "from sklearn.neighbors import KNeighborsClassifier\n",
        "from sklearn import metrics\n"
      ]
    },
    {
      "cell_type": "code",
      "source": [
        "import nltk\n",
        "nltk.download('stopwords')\n",
        "from nltk.corpus import stopwords"
      ],
      "metadata": {
        "colab": {
          "base_uri": "https://localhost:8080/"
        },
        "id": "y6Fg2joDhADi",
        "outputId": "50dc642b-3989-4516-80ec-ae95b6de0f6f"
      },
      "execution_count": null,
      "outputs": [
        {
          "output_type": "stream",
          "name": "stderr",
          "text": [
            "[nltk_data] Downloading package stopwords to /root/nltk_data...\n",
            "[nltk_data]   Unzipping corpora/stopwords.zip.\n"
          ]
        }
      ]
    },
    {
      "cell_type": "code",
      "source": [
        "resumeDataSet = teachers_dataset"
      ],
      "metadata": {
        "id": "NpXSKnJkxhjY"
      },
      "execution_count": null,
      "outputs": []
    },
    {
      "cell_type": "code",
      "source": [
        "states = ['alabama','al','alaska','ak', 'arizona', 'az',\n",
        " 'arkansas', 'ar', 'california','ca',\n",
        " 'colorado', 'co','connecticut','ct','delaware','de',\n",
        " 'district of columbia','dc',\n",
        " 'florida','fl','georgia','ga',\n",
        " 'hawaii','hi','idaho','id',\n",
        " 'illinois','il','indiana','in',\n",
        " 'iowa','ia','kansas','ks',\n",
        " 'kentucky','ky','louisiana','la',\n",
        " 'maine','me','montana','mt',\n",
        " 'nebraska','ne','nevada','nv',\n",
        " 'new hampshire','nh','new jersey','nj',\n",
        " 'new mexico','nm','new york','ny',\n",
        " 'north carolina','nc',\n",
        " 'north dakota','nd','ohio','oh',\n",
        " 'oklahoma','ok','oregon','or',\n",
        " 'maryland','md','massachusetts','ma',\n",
        " 'michigan','mi','minnesota','mn',\n",
        " 'mississippi','ms',\n",
        " 'missouri','mo','pennsylvania','pa',\n",
        " 'rhode island','ri','south carolina','sc',\n",
        " 'south dakota','sd','tennessee','tn','texas','tx',\n",
        " 'utah','ut','vermont','vt','virginia','va','washington','wa',\n",
        " 'west virginia','wv', 'york','ghana',\n",
        " 'wisconsin','wi','wyoming','wy', 'brooklyn'\n",
        "  ]"
      ],
      "metadata": {
        "id": "qC0fxH0hGKSE"
      },
      "execution_count": null,
      "outputs": []
    },
    {
      "cell_type": "code",
      "source": [
        "resumeDataSet['cleaned_resume'] = ''\n",
        "import re\n",
        "def cleanResume(resumeText):\n",
        "    resumeText = re.sub('http\\S+\\s*', ' ', resumeText)  # remove URLs\n",
        "    resumeText = re.sub('RT|cc', ' ', resumeText)  # remove RT and cc\n",
        "    resumeText = re.sub('#\\S+', '', resumeText)  # remove hashtags\n",
        "    resumeText = re.sub('@\\S+', '  ', resumeText)  # remove mentions\n",
        "    resumeText = re.sub('[%s]' % re.escape(\"\"\"!\"#$%&'()*+,-./:;<=>?@[\\]^_`{|}~\"\"\"), ' ', resumeText)  # remove punctuations\n",
        "    resumeText = re.sub(r'[^\\x00-\\x7f]',r' ', resumeText) \n",
        "    resumeText = re.sub('\\s+', ' ', resumeText)  # remove extra whitespace\n",
        "    return resumeText\n",
        "    \n",
        "resumeDataSet['cleaned_resume'] = resumeDataSet.cv.apply(lambda x: cleanResume(x))"
      ],
      "metadata": {
        "id": "WGbjcF8WpKCE"
      },
      "execution_count": null,
      "outputs": []
    },
    {
      "cell_type": "code",
      "source": [
        "for resume in range(len(resumeDataSet['cleaned_resume'])):\n",
        "  for word in resumeDataSet['cleaned_resume'][resume].split():\n",
        "    if word in states:\n",
        "      resumeDataSet['cleaned_resume'][resume] = resumeDataSet['cleaned_resume'][resume].replace(' '+word+' ', ' ')\n",
        "      resumeDataSet['cleaned_resume'][resume] = re.sub('\\s+', ' ', resumeDataSet['cleaned_resume'][resume])\n"
      ],
      "metadata": {
        "id": "BMwKVIw9GSWt"
      },
      "execution_count": null,
      "outputs": []
    },
    {
      "cell_type": "code",
      "source": [
        "resumeDataSet['cleaned_resume']"
      ],
      "metadata": {
        "colab": {
          "base_uri": "https://localhost:8080/"
        },
        "id": "zn20hdHIKELw",
        "outputId": "18b36541-42b8-4da9-e052-a3498381f6cc"
      },
      "execution_count": null,
      "outputs": [
        {
          "output_type": "execute_result",
          "data": {
            "text/plain": [
              "0        austin email on indeed a doctor of chiropract...\n",
              "1        waupun email on indeed willing to relocate an...\n",
              "2        richardson email on indeed teaching math midd...\n",
              "3        new port richey email on indeed willing to re...\n",
              "4        buhl email on indeed authorized to work the u...\n",
              "                              ...                        \n",
              "4114     claremont email on indeed work experience lea...\n",
              "4115     davis email on indeed resilient educator turn...\n",
              "4116     atlanta email on indeed teacher certification...\n",
              "4117     darlington email on indeed authorized to work...\n",
              "4118     email on indeed to work my best potential and...\n",
              "Name: cleaned_resume, Length: 4119, dtype: object"
            ]
          },
          "metadata": {},
          "execution_count": 10
        }
      ]
    },
    {
      "cell_type": "code",
      "source": [
        "from sklearn.preprocessing import LabelEncoder\n",
        "\n",
        "var_mod = ['position']\n",
        "le = LabelEncoder()\n",
        "for i in var_mod:\n",
        "    resumeDataSet[i] = le.fit_transform(resumeDataSet[i])"
      ],
      "metadata": {
        "id": "J04yC6PtpTtI"
      },
      "execution_count": null,
      "outputs": []
    },
    {
      "cell_type": "code",
      "source": [
        "label_dict = {'primary_teacher' : 6,\n",
        "              'kg_teacher' : 3,\n",
        "              'esl_teacher' : 1,\n",
        "              'ict_teacher' : 2,\n",
        "              'science_teacher' : 7,\n",
        "              'music_teacher' : 5,\n",
        "              'math_teacher' : 4,\n",
        "              'art_teacher' : 0\n",
        "              }"
      ],
      "metadata": {
        "id": "UycdJX05peyo"
      },
      "execution_count": null,
      "outputs": []
    },
    {
      "cell_type": "code",
      "source": [
        "resumeDataSet.head()"
      ],
      "metadata": {
        "colab": {
          "base_uri": "https://localhost:8080/",
          "height": 206
        },
        "id": "AnvmP9xnpfFd",
        "outputId": "b2a2fdb2-b332-40b0-dd9c-be9d8419eead"
      },
      "execution_count": null,
      "outputs": [
        {
          "output_type": "execute_result",
          "data": {
            "text/plain": [
              "   position                                                 cv  \\\n",
              "0         7  \\naustin tx\\nemail me on indeed httpwwwindeedc...   \n",
              "1         7  \\nwaupun wi\\nemail me on indeed httpwwwindeedc...   \n",
              "2         7  \\nrichardson tx\\nemail me on indeed httpwwwind...   \n",
              "3         7  \\nnew port richey fl\\nemail me on indeed httpw...   \n",
              "4         7  \\nbuhl al\\nemail me on indeed httpwwwindeedcom...   \n",
              "\n",
              "                                      cleaned_resume  \n",
              "0   austin email on indeed a doctor of chiropract...  \n",
              "1   waupun email on indeed willing to relocate an...  \n",
              "2   richardson email on indeed teaching math midd...  \n",
              "3   new port richey email on indeed willing to re...  \n",
              "4   buhl email on indeed authorized to work the u...  "
            ],
            "text/html": [
              "\n",
              "  <div id=\"df-7c574aec-82d5-4e8b-9005-879460c0db63\">\n",
              "    <div class=\"colab-df-container\">\n",
              "      <div>\n",
              "<style scoped>\n",
              "    .dataframe tbody tr th:only-of-type {\n",
              "        vertical-align: middle;\n",
              "    }\n",
              "\n",
              "    .dataframe tbody tr th {\n",
              "        vertical-align: top;\n",
              "    }\n",
              "\n",
              "    .dataframe thead th {\n",
              "        text-align: right;\n",
              "    }\n",
              "</style>\n",
              "<table border=\"1\" class=\"dataframe\">\n",
              "  <thead>\n",
              "    <tr style=\"text-align: right;\">\n",
              "      <th></th>\n",
              "      <th>position</th>\n",
              "      <th>cv</th>\n",
              "      <th>cleaned_resume</th>\n",
              "    </tr>\n",
              "  </thead>\n",
              "  <tbody>\n",
              "    <tr>\n",
              "      <th>0</th>\n",
              "      <td>7</td>\n",
              "      <td>\\naustin tx\\nemail me on indeed httpwwwindeedc...</td>\n",
              "      <td>austin email on indeed a doctor of chiropract...</td>\n",
              "    </tr>\n",
              "    <tr>\n",
              "      <th>1</th>\n",
              "      <td>7</td>\n",
              "      <td>\\nwaupun wi\\nemail me on indeed httpwwwindeedc...</td>\n",
              "      <td>waupun email on indeed willing to relocate an...</td>\n",
              "    </tr>\n",
              "    <tr>\n",
              "      <th>2</th>\n",
              "      <td>7</td>\n",
              "      <td>\\nrichardson tx\\nemail me on indeed httpwwwind...</td>\n",
              "      <td>richardson email on indeed teaching math midd...</td>\n",
              "    </tr>\n",
              "    <tr>\n",
              "      <th>3</th>\n",
              "      <td>7</td>\n",
              "      <td>\\nnew port richey fl\\nemail me on indeed httpw...</td>\n",
              "      <td>new port richey email on indeed willing to re...</td>\n",
              "    </tr>\n",
              "    <tr>\n",
              "      <th>4</th>\n",
              "      <td>7</td>\n",
              "      <td>\\nbuhl al\\nemail me on indeed httpwwwindeedcom...</td>\n",
              "      <td>buhl email on indeed authorized to work the u...</td>\n",
              "    </tr>\n",
              "  </tbody>\n",
              "</table>\n",
              "</div>\n",
              "      <button class=\"colab-df-convert\" onclick=\"convertToInteractive('df-7c574aec-82d5-4e8b-9005-879460c0db63')\"\n",
              "              title=\"Convert this dataframe to an interactive table.\"\n",
              "              style=\"display:none;\">\n",
              "        \n",
              "  <svg xmlns=\"http://www.w3.org/2000/svg\" height=\"24px\"viewBox=\"0 0 24 24\"\n",
              "       width=\"24px\">\n",
              "    <path d=\"M0 0h24v24H0V0z\" fill=\"none\"/>\n",
              "    <path d=\"M18.56 5.44l.94 2.06.94-2.06 2.06-.94-2.06-.94-.94-2.06-.94 2.06-2.06.94zm-11 1L8.5 8.5l.94-2.06 2.06-.94-2.06-.94L8.5 2.5l-.94 2.06-2.06.94zm10 10l.94 2.06.94-2.06 2.06-.94-2.06-.94-.94-2.06-.94 2.06-2.06.94z\"/><path d=\"M17.41 7.96l-1.37-1.37c-.4-.4-.92-.59-1.43-.59-.52 0-1.04.2-1.43.59L10.3 9.45l-7.72 7.72c-.78.78-.78 2.05 0 2.83L4 21.41c.39.39.9.59 1.41.59.51 0 1.02-.2 1.41-.59l7.78-7.78 2.81-2.81c.8-.78.8-2.07 0-2.86zM5.41 20L4 18.59l7.72-7.72 1.47 1.35L5.41 20z\"/>\n",
              "  </svg>\n",
              "      </button>\n",
              "      \n",
              "  <style>\n",
              "    .colab-df-container {\n",
              "      display:flex;\n",
              "      flex-wrap:wrap;\n",
              "      gap: 12px;\n",
              "    }\n",
              "\n",
              "    .colab-df-convert {\n",
              "      background-color: #E8F0FE;\n",
              "      border: none;\n",
              "      border-radius: 50%;\n",
              "      cursor: pointer;\n",
              "      display: none;\n",
              "      fill: #1967D2;\n",
              "      height: 32px;\n",
              "      padding: 0 0 0 0;\n",
              "      width: 32px;\n",
              "    }\n",
              "\n",
              "    .colab-df-convert:hover {\n",
              "      background-color: #E2EBFA;\n",
              "      box-shadow: 0px 1px 2px rgba(60, 64, 67, 0.3), 0px 1px 3px 1px rgba(60, 64, 67, 0.15);\n",
              "      fill: #174EA6;\n",
              "    }\n",
              "\n",
              "    [theme=dark] .colab-df-convert {\n",
              "      background-color: #3B4455;\n",
              "      fill: #D2E3FC;\n",
              "    }\n",
              "\n",
              "    [theme=dark] .colab-df-convert:hover {\n",
              "      background-color: #434B5C;\n",
              "      box-shadow: 0px 1px 3px 1px rgba(0, 0, 0, 0.15);\n",
              "      filter: drop-shadow(0px 1px 2px rgba(0, 0, 0, 0.3));\n",
              "      fill: #FFFFFF;\n",
              "    }\n",
              "  </style>\n",
              "\n",
              "      <script>\n",
              "        const buttonEl =\n",
              "          document.querySelector('#df-7c574aec-82d5-4e8b-9005-879460c0db63 button.colab-df-convert');\n",
              "        buttonEl.style.display =\n",
              "          google.colab.kernel.accessAllowed ? 'block' : 'none';\n",
              "\n",
              "        async function convertToInteractive(key) {\n",
              "          const element = document.querySelector('#df-7c574aec-82d5-4e8b-9005-879460c0db63');\n",
              "          const dataTable =\n",
              "            await google.colab.kernel.invokeFunction('convertToInteractive',\n",
              "                                                     [key], {});\n",
              "          if (!dataTable) return;\n",
              "\n",
              "          const docLinkHtml = 'Like what you see? Visit the ' +\n",
              "            '<a target=\"_blank\" href=https://colab.research.google.com/notebooks/data_table.ipynb>data table notebook</a>'\n",
              "            + ' to learn more about interactive tables.';\n",
              "          element.innerHTML = '';\n",
              "          dataTable['output_type'] = 'display_data';\n",
              "          await google.colab.output.renderOutput(dataTable, element);\n",
              "          const docLink = document.createElement('div');\n",
              "          docLink.innerHTML = docLinkHtml;\n",
              "          element.appendChild(docLink);\n",
              "        }\n",
              "      </script>\n",
              "    </div>\n",
              "  </div>\n",
              "  "
            ]
          },
          "metadata": {},
          "execution_count": 13
        }
      ]
    },
    {
      "cell_type": "code",
      "source": [
        "import matplotlib.pyplot as plt\n",
        "fig = plt.figure(figsize=(8,6))\n",
        "resumeDataSet.groupby('position').cleaned_resume.count().plot.bar(ylim=0)\n",
        "plt.show()"
      ],
      "metadata": {
        "colab": {
          "base_uri": "https://localhost:8080/",
          "height": 384
        },
        "id": "e01X06Qqplj9",
        "outputId": "7adc4d8a-70c5-4172-80cb-3012cc52ac23"
      },
      "execution_count": null,
      "outputs": [
        {
          "output_type": "display_data",
          "data": {
            "text/plain": [
              "<Figure size 576x432 with 1 Axes>"
            ],
            "image/png": "[encoded data removed]"
          },
          "metadata": {
            "needs_background": "light"
          }
        }
      ]
    }
  ],
  "metadata": {
    "kernelspec": {
      "display_name": "Python 3",
      "language": "python",
      "name": "python3"
    },
    "language_info": {
      "codemirror_mode": {
        "name": "ipython",
        "version": 3
      },
      "file_extension": ".py",
      "mimetype": "text/x-python",
      "name": "python",
      "nbconvert_exporter": "python",
      "pygments_lexer": "ipython3",
      "version": "3.8.5"
    },
    "colab": {
      "provenance": []
    }
  },
  "nbformat": 4,
  "nbformat_minor": 0
}