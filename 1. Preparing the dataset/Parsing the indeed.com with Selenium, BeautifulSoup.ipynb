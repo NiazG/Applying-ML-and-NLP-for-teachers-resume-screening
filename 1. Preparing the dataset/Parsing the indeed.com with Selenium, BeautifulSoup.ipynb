{
 "cells": [
  {
   "cell_type": "code",
   "execution_count": 141,
   "metadata": {},
   "outputs": [],
   "source": [
    "from selenium import webdriver\n",
    "import requests\n",
    "import re\n",
    "from bs4 import BeautifulSoup\n",
    "from selenium.webdriver.support.select import Select\n",
    "from selenium.webdriver import ActionChains\n",
    "from selenium.webdriver.common.keys import Keys\n",
    "import time"
   ]
  },
  {
   "cell_type": "code",
   "execution_count": 142,
   "metadata": {},
   "outputs": [
    {
     "name": "stderr",
     "output_type": "stream",
     "text": [
      "<ipython-input-142-229a12f5e004>:5: DeprecationWarning: executable_path has been deprecated, please pass in a Service object\n",
      "  driver = webdriver.Chrome('/Users/niyaz/desktop/chromedriver', chrome_options=options)\n",
      "<ipython-input-142-229a12f5e004>:5: DeprecationWarning: use options instead of chrome_options\n",
      "  driver = webdriver.Chrome('/Users/niyaz/desktop/chromedriver', chrome_options=options)\n"
     ]
    }
   ],
   "source": [
    "url = 'https://resumes.indeed.com/'\n",
    "options = webdriver.ChromeOptions()\n",
    "prefs = {'download.default_directory' : '/Users/niyaz/desktop/MSDS/Thesis/science'}\n",
    "options.add_experimental_option('prefs', prefs)\n",
    "driver = webdriver.Chrome('/Users/niyaz/desktop/chromedriver', chrome_options=options)\n",
    "driver.get(url)"
   ]
  },
  {
   "cell_type": "code",
   "execution_count": 143,
   "metadata": {},
   "outputs": [
    {
     "name": "stderr",
     "output_type": "stream",
     "text": [
      "<ipython-input-143-b58b70daca35>:2: DeprecationWarning: find_element_by_* commands are deprecated. Please use find_element() instead\n",
      "  driver.find_element_by_xpath(\"//*[@id='gnav-main-container']/div/div/div[2]/a\").click()\n",
      "<ipython-input-143-b58b70daca35>:4: DeprecationWarning: find_element_by_* commands are deprecated. Please use find_element() instead\n",
      "  driver.find_element_by_xpath(\"//*[@id='ifl-InputFormField-3']\").send_keys('ng1987@mail.ru')\n",
      "<ipython-input-143-b58b70daca35>:5: DeprecationWarning: find_element_by_* commands are deprecated. Please use find_element() instead\n",
      "  driver.find_element_by_xpath(\"//*[@id='emailform']/button\").click()\n"
     ]
    }
   ],
   "source": [
    "# log in\n",
    "driver.find_element_by_xpath(\"//*[@id='gnav-main-container']/div/div/div[2]/a\").click()\n",
    "#username\n",
    "driver.find_element_by_xpath(\"//*[@id='ifl-InputFormField-3']\").send_keys('ng1987@mail.ru')\n",
    "driver.find_element_by_xpath(\"//*[@id='emailform']/button\").click()\n"
   ]
  },
  {
   "cell_type": "code",
   "execution_count": 145,
   "metadata": {},
   "outputs": [
    {
     "name": "stderr",
     "output_type": "stream",
     "text": [
      "<ipython-input-145-5a6a778e6904>:2: DeprecationWarning: find_element_by_* commands are deprecated. Please use find_element() instead\n",
      "  driver.find_element_by_xpath(\"//*[@id='ifl-InputFormField-81']\").send_keys('MSDS2022')\n",
      "<ipython-input-145-5a6a778e6904>:3: DeprecationWarning: find_element_by_* commands are deprecated. Please use find_element() instead\n",
      "  driver.find_element_by_xpath(\"//*[@id='loginform']/button\").click()\n"
     ]
    }
   ],
   "source": [
    "#password\n",
    "driver.find_element_by_xpath(\"//*[@id='ifl-InputFormField-81']\").send_keys('MSDS2022')\n",
    "driver.find_element_by_xpath(\"//*[@id='loginform']/button\").click()"
   ]
  },
  {
   "cell_type": "code",
   "execution_count": 80,
   "metadata": {},
   "outputs": [
    {
     "name": "stderr",
     "output_type": "stream",
     "text": [
      "<ipython-input-80-4a8e43963e3b>:2: DeprecationWarning: find_element_by_* commands are deprecated. Please use find_element() instead\n",
      "  driver.find_element_by_xpath(\"//*[@id='what_input']\").send_keys(teachers_titles[0])\n",
      "<ipython-input-80-4a8e43963e3b>:3: DeprecationWarning: find_element_by_* commands are deprecated. Please use find_element() instead\n",
      "  driver.find_element_by_xpath(\"//*[@id='app-root']/div[3]/div/main/div/div[1]/div/div/div[2]/form/div[2]/button\").click()\n"
     ]
    }
   ],
   "source": [
    "# searching for teacher\n",
    "driver.find_element_by_xpath(\"//*[@id='what_input']\").send_keys(teachers_titles[0])\n",
    "driver.find_element_by_xpath(\"//*[@id='app-root']/div[3]/div/main/div/div[1]/div/div/div[2]/form/div[2]/button\").click()"
   ]
  },
  {
   "cell_type": "code",
   "execution_count": 82,
   "metadata": {},
   "outputs": [
    {
     "name": "stderr",
     "output_type": "stream",
     "text": [
      "<ipython-input-82-3159400aa5a0>:1: DeprecationWarning: find_element_by_* commands are deprecated. Please use find_element() instead\n",
      "  driver.find_element_by_xpath(\"//*[@id='resume-preview']/div[1]/div/div/div[2]/div[1]/button[3]\").click()\n"
     ]
    },
    {
     "ename": "NoSuchElementException",
     "evalue": "Message: no such element: Unable to locate element: {\"method\":\"xpath\",\"selector\":\"//*[@id='resume-preview']/div[1]/div/div/div[2]/div[1]/button[3]\"}\n  (Session info: chrome=108.0.5359.124)\nStacktrace:\n0   chromedriver                        0x0000000104b60f38 chromedriver + 4910904\n1   chromedriver                        0x0000000104ae0a03 chromedriver + 4385283\n2   chromedriver                        0x0000000104725747 chromedriver + 472903\n3   chromedriver                        0x000000010476a34c chromedriver + 754508\n4   chromedriver                        0x000000010476a5a1 chromedriver + 755105\n5   chromedriver                        0x00000001047ade94 chromedriver + 1031828\n6   chromedriver                        0x000000010479013d chromedriver + 909629\n7   chromedriver                        0x00000001047ab28e chromedriver + 1020558\n8   chromedriver                        0x000000010478fee3 chromedriver + 909027\n9   chromedriver                        0x000000010475a30c chromedriver + 688908\n10  chromedriver                        0x000000010475b88e chromedriver + 694414\n11  chromedriver                        0x0000000104b2e1de chromedriver + 4702686\n12  chromedriver                        0x0000000104b32b19 chromedriver + 4721433\n13  chromedriver                        0x0000000104b3a28e chromedriver + 4752014\n14  chromedriver                        0x0000000104b3391a chromedriver + 4725018\n15  chromedriver                        0x0000000104b07b02 chromedriver + 4545282\n16  chromedriver                        0x0000000104b52888 chromedriver + 4851848\n17  chromedriver                        0x0000000104b52a05 chromedriver + 4852229\n18  chromedriver                        0x0000000104b68e5f chromedriver + 4943455\n19  libsystem_pthread.dylib             0x00007ff80dca74e1 _pthread_start + 125\n20  libsystem_pthread.dylib             0x00007ff80dca2f6b thread_start + 15\n",
     "output_type": "error",
     "traceback": [
      "\u001b[0;31m---------------------------------------------------------------------------\u001b[0m",
      "\u001b[0;31mNoSuchElementException\u001b[0m                    Traceback (most recent call last)",
      "\u001b[0;32m<ipython-input-82-3159400aa5a0>\u001b[0m in \u001b[0;36m<module>\u001b[0;34m\u001b[0m\n\u001b[0;32m----> 1\u001b[0;31m \u001b[0mdriver\u001b[0m\u001b[0;34m.\u001b[0m\u001b[0mfind_element_by_xpath\u001b[0m\u001b[0;34m(\u001b[0m\u001b[0;34m\"//*[@id='resume-preview']/div[1]/div/div/div[2]/div[1]/button[3]\"\u001b[0m\u001b[0;34m)\u001b[0m\u001b[0;34m.\u001b[0m\u001b[0mclick\u001b[0m\u001b[0;34m(\u001b[0m\u001b[0;34m)\u001b[0m\u001b[0;34m\u001b[0m\u001b[0;34m\u001b[0m\u001b[0m\n\u001b[0m",
      "\u001b[0;32m~/opt/anaconda3/lib/python3.8/site-packages/selenium/webdriver/remote/webdriver.py\u001b[0m in \u001b[0;36mfind_element_by_xpath\u001b[0;34m(self, xpath)\u001b[0m\n\u001b[1;32m    512\u001b[0m             \u001b[0mstacklevel\u001b[0m\u001b[0;34m=\u001b[0m\u001b[0;36m2\u001b[0m\u001b[0;34m,\u001b[0m\u001b[0;34m\u001b[0m\u001b[0;34m\u001b[0m\u001b[0m\n\u001b[1;32m    513\u001b[0m         )\n\u001b[0;32m--> 514\u001b[0;31m         \u001b[0;32mreturn\u001b[0m \u001b[0mself\u001b[0m\u001b[0;34m.\u001b[0m\u001b[0mfind_element\u001b[0m\u001b[0;34m(\u001b[0m\u001b[0mby\u001b[0m\u001b[0;34m=\u001b[0m\u001b[0mBy\u001b[0m\u001b[0;34m.\u001b[0m\u001b[0mXPATH\u001b[0m\u001b[0;34m,\u001b[0m \u001b[0mvalue\u001b[0m\u001b[0;34m=\u001b[0m\u001b[0mxpath\u001b[0m\u001b[0;34m)\u001b[0m\u001b[0;34m\u001b[0m\u001b[0;34m\u001b[0m\u001b[0m\n\u001b[0m\u001b[1;32m    515\u001b[0m \u001b[0;34m\u001b[0m\u001b[0m\n\u001b[1;32m    516\u001b[0m     \u001b[0;32mdef\u001b[0m \u001b[0mfind_elements_by_xpath\u001b[0m\u001b[0;34m(\u001b[0m\u001b[0mself\u001b[0m\u001b[0;34m,\u001b[0m \u001b[0mxpath\u001b[0m\u001b[0;34m)\u001b[0m \u001b[0;34m->\u001b[0m \u001b[0mWebElement\u001b[0m\u001b[0;34m:\u001b[0m\u001b[0;34m\u001b[0m\u001b[0;34m\u001b[0m\u001b[0m\n",
      "\u001b[0;32m~/opt/anaconda3/lib/python3.8/site-packages/selenium/webdriver/remote/webdriver.py\u001b[0m in \u001b[0;36mfind_element\u001b[0;34m(self, by, value)\u001b[0m\n\u001b[1;32m   1236\u001b[0m             \u001b[0mvalue\u001b[0m \u001b[0;34m=\u001b[0m \u001b[0;34m'[name=\"%s\"]'\u001b[0m \u001b[0;34m%\u001b[0m \u001b[0mvalue\u001b[0m\u001b[0;34m\u001b[0m\u001b[0;34m\u001b[0m\u001b[0m\n\u001b[1;32m   1237\u001b[0m \u001b[0;34m\u001b[0m\u001b[0m\n\u001b[0;32m-> 1238\u001b[0;31m         return self.execute(Command.FIND_ELEMENT, {\n\u001b[0m\u001b[1;32m   1239\u001b[0m             \u001b[0;34m'using'\u001b[0m\u001b[0;34m:\u001b[0m \u001b[0mby\u001b[0m\u001b[0;34m,\u001b[0m\u001b[0;34m\u001b[0m\u001b[0;34m\u001b[0m\u001b[0m\n\u001b[1;32m   1240\u001b[0m             'value': value})['value']\n",
      "\u001b[0;32m~/opt/anaconda3/lib/python3.8/site-packages/selenium/webdriver/remote/webdriver.py\u001b[0m in \u001b[0;36mexecute\u001b[0;34m(self, driver_command, params)\u001b[0m\n\u001b[1;32m    416\u001b[0m         \u001b[0mresponse\u001b[0m \u001b[0;34m=\u001b[0m \u001b[0mself\u001b[0m\u001b[0;34m.\u001b[0m\u001b[0mcommand_executor\u001b[0m\u001b[0;34m.\u001b[0m\u001b[0mexecute\u001b[0m\u001b[0;34m(\u001b[0m\u001b[0mdriver_command\u001b[0m\u001b[0;34m,\u001b[0m \u001b[0mparams\u001b[0m\u001b[0;34m)\u001b[0m\u001b[0;34m\u001b[0m\u001b[0;34m\u001b[0m\u001b[0m\n\u001b[1;32m    417\u001b[0m         \u001b[0;32mif\u001b[0m \u001b[0mresponse\u001b[0m\u001b[0;34m:\u001b[0m\u001b[0;34m\u001b[0m\u001b[0;34m\u001b[0m\u001b[0m\n\u001b[0;32m--> 418\u001b[0;31m             \u001b[0mself\u001b[0m\u001b[0;34m.\u001b[0m\u001b[0merror_handler\u001b[0m\u001b[0;34m.\u001b[0m\u001b[0mcheck_response\u001b[0m\u001b[0;34m(\u001b[0m\u001b[0mresponse\u001b[0m\u001b[0;34m)\u001b[0m\u001b[0;34m\u001b[0m\u001b[0;34m\u001b[0m\u001b[0m\n\u001b[0m\u001b[1;32m    419\u001b[0m             response['value'] = self._unwrap_value(\n\u001b[1;32m    420\u001b[0m                 response.get('value', None))\n",
      "\u001b[0;32m~/opt/anaconda3/lib/python3.8/site-packages/selenium/webdriver/remote/errorhandler.py\u001b[0m in \u001b[0;36mcheck_response\u001b[0;34m(self, response)\u001b[0m\n\u001b[1;32m    241\u001b[0m                 \u001b[0malert_text\u001b[0m \u001b[0;34m=\u001b[0m \u001b[0mvalue\u001b[0m\u001b[0;34m[\u001b[0m\u001b[0;34m'alert'\u001b[0m\u001b[0;34m]\u001b[0m\u001b[0;34m.\u001b[0m\u001b[0mget\u001b[0m\u001b[0;34m(\u001b[0m\u001b[0;34m'text'\u001b[0m\u001b[0;34m)\u001b[0m\u001b[0;34m\u001b[0m\u001b[0;34m\u001b[0m\u001b[0m\n\u001b[1;32m    242\u001b[0m             \u001b[0;32mraise\u001b[0m \u001b[0mexception_class\u001b[0m\u001b[0;34m(\u001b[0m\u001b[0mmessage\u001b[0m\u001b[0;34m,\u001b[0m \u001b[0mscreen\u001b[0m\u001b[0;34m,\u001b[0m \u001b[0mstacktrace\u001b[0m\u001b[0;34m,\u001b[0m \u001b[0malert_text\u001b[0m\u001b[0;34m)\u001b[0m  \u001b[0;31m# type: ignore[call-arg]  # mypy is not smart enough here\u001b[0m\u001b[0;34m\u001b[0m\u001b[0;34m\u001b[0m\u001b[0m\n\u001b[0;32m--> 243\u001b[0;31m         \u001b[0;32mraise\u001b[0m \u001b[0mexception_class\u001b[0m\u001b[0;34m(\u001b[0m\u001b[0mmessage\u001b[0m\u001b[0;34m,\u001b[0m \u001b[0mscreen\u001b[0m\u001b[0;34m,\u001b[0m \u001b[0mstacktrace\u001b[0m\u001b[0;34m)\u001b[0m\u001b[0;34m\u001b[0m\u001b[0;34m\u001b[0m\u001b[0m\n\u001b[0m\u001b[1;32m    244\u001b[0m \u001b[0;34m\u001b[0m\u001b[0m\n\u001b[1;32m    245\u001b[0m     \u001b[0;32mdef\u001b[0m \u001b[0m_value_or_default\u001b[0m\u001b[0;34m(\u001b[0m\u001b[0mself\u001b[0m\u001b[0;34m,\u001b[0m \u001b[0mobj\u001b[0m\u001b[0;34m:\u001b[0m \u001b[0mMapping\u001b[0m\u001b[0;34m[\u001b[0m\u001b[0m_KT\u001b[0m\u001b[0;34m,\u001b[0m \u001b[0m_VT\u001b[0m\u001b[0;34m]\u001b[0m\u001b[0;34m,\u001b[0m \u001b[0mkey\u001b[0m\u001b[0;34m:\u001b[0m \u001b[0m_KT\u001b[0m\u001b[0;34m,\u001b[0m \u001b[0mdefault\u001b[0m\u001b[0;34m:\u001b[0m \u001b[0m_VT\u001b[0m\u001b[0;34m)\u001b[0m \u001b[0;34m->\u001b[0m \u001b[0m_VT\u001b[0m\u001b[0;34m:\u001b[0m\u001b[0;34m\u001b[0m\u001b[0;34m\u001b[0m\u001b[0m\n",
      "\u001b[0;31mNoSuchElementException\u001b[0m: Message: no such element: Unable to locate element: {\"method\":\"xpath\",\"selector\":\"//*[@id='resume-preview']/div[1]/div/div/div[2]/div[1]/button[3]\"}\n  (Session info: chrome=108.0.5359.124)\nStacktrace:\n0   chromedriver                        0x0000000104b60f38 chromedriver + 4910904\n1   chromedriver                        0x0000000104ae0a03 chromedriver + 4385283\n2   chromedriver                        0x0000000104725747 chromedriver + 472903\n3   chromedriver                        0x000000010476a34c chromedriver + 754508\n4   chromedriver                        0x000000010476a5a1 chromedriver + 755105\n5   chromedriver                        0x00000001047ade94 chromedriver + 1031828\n6   chromedriver                        0x000000010479013d chromedriver + 909629\n7   chromedriver                        0x00000001047ab28e chromedriver + 1020558\n8   chromedriver                        0x000000010478fee3 chromedriver + 909027\n9   chromedriver                        0x000000010475a30c chromedriver + 688908\n10  chromedriver                        0x000000010475b88e chromedriver + 694414\n11  chromedriver                        0x0000000104b2e1de chromedriver + 4702686\n12  chromedriver                        0x0000000104b32b19 chromedriver + 4721433\n13  chromedriver                        0x0000000104b3a28e chromedriver + 4752014\n14  chromedriver                        0x0000000104b3391a chromedriver + 4725018\n15  chromedriver                        0x0000000104b07b02 chromedriver + 4545282\n16  chromedriver                        0x0000000104b52888 chromedriver + 4851848\n17  chromedriver                        0x0000000104b52a05 chromedriver + 4852229\n18  chromedriver                        0x0000000104b68e5f chromedriver + 4943455\n19  libsystem_pthread.dylib             0x00007ff80dca74e1 _pthread_start + 125\n20  libsystem_pthread.dylib             0x00007ff80dca2f6b thread_start + 15\n"
     ]
    }
   ],
   "source": [
    "driver.find_element_by_xpath(\"//*[@id='resume-preview']/div[1]/div/div/div[2]/div[1]/button[3]\").click()"
   ]
  },
  {
   "cell_type": "code",
   "execution_count": 163,
   "metadata": {},
   "outputs": [
    {
     "name": "stderr",
     "output_type": "stream",
     "text": [
      "<ipython-input-163-21a5422f25bd>:2: DeprecationWarning: find_elements_by_* commands are deprecated. Please use find_elements() instead\n",
      "  for teacher in driver.find_elements_by_xpath(\"//*[@data-cauto-id='resume_card']\")[count:]:\n"
     ]
    },
    {
     "name": "stdout",
     "output_type": "stream",
     "text": [
      "0\n"
     ]
    },
    {
     "name": "stderr",
     "output_type": "stream",
     "text": [
      "<ipython-input-163-21a5422f25bd>:8: DeprecationWarning: find_element_by_* commands are deprecated. Please use find_element() instead\n",
      "  driver.find_element_by_xpath(\"//*[@aria-label='Download resume']\").click()\n"
     ]
    },
    {
     "name": "stdout",
     "output_type": "stream",
     "text": [
      "1\n",
      "2\n",
      "3\n",
      "4\n",
      "5\n",
      "6\n",
      "7\n",
      "8\n",
      "9\n",
      "10\n",
      "11\n",
      "12\n",
      "13\n",
      "14\n",
      "15\n",
      "16\n",
      "17\n",
      "18\n",
      "19\n",
      "20\n",
      "21\n",
      "22\n",
      "23\n",
      "24\n",
      "25\n",
      "26\n",
      "27\n",
      "28\n",
      "29\n",
      "30\n",
      "31\n",
      "32\n",
      "33\n",
      "34\n",
      "35\n",
      "36\n",
      "37\n",
      "38\n",
      "39\n",
      "40\n",
      "41\n",
      "42\n",
      "43\n",
      "44\n",
      "45\n",
      "46\n",
      "47\n",
      "48\n"
     ]
    }
   ],
   "source": [
    "count = 0\n",
    "for teacher in driver.find_elements_by_xpath(\"//*[@data-cauto-id='resume_card']\")[count:]:\n",
    "    teacher.click()\n",
    "    time.sleep(2)\n",
    "    \n",
    "    print(count)\n",
    "    count += 1\n",
    "    driver.find_element_by_xpath(\"//*[@aria-label='Download resume']\").click()"
   ]
  },
  {
   "cell_type": "markdown",
   "metadata": {},
   "source": [
    "# OCCURED PROBLEMS\n",
    "### CAPTCHA.  Can not avoid it "
   ]
  },
  {
   "cell_type": "code",
   "execution_count": 153,
   "metadata": {},
   "outputs": [
    {
     "name": "stderr",
     "output_type": "stream",
     "text": [
      "<ipython-input-153-867a7ac902fb>:2: DeprecationWarning: find_element_by_* commands are deprecated. Please use find_element() instead\n",
      "  driver.find_element_by_xpath(f\"//*[@aria-label='Page {page}']\").click()\n"
     ]
    }
   ],
   "source": [
    "page = 4\n",
    "driver.find_element_by_xpath(f\"//*[@aria-label='Page {page}']\").click()\n"
   ]
  },
  {
   "cell_type": "code",
   "execution_count": null,
   "metadata": {},
   "outputs": [],
   "source": []
  }
 ],
 "metadata": {
  "kernelspec": {
   "display_name": "Python 3",
   "language": "python",
   "name": "python3"
  },
  "language_info": {
   "codemirror_mode": {
    "name": "ipython",
    "version": 3
   },
   "file_extension": ".py",
   "mimetype": "text/x-python",
   "name": "python",
   "nbconvert_exporter": "python",
   "pygments_lexer": "ipython3",
   "version": "3.8.5"
  }
 },
 "nbformat": 4,
 "nbformat_minor": 4
}